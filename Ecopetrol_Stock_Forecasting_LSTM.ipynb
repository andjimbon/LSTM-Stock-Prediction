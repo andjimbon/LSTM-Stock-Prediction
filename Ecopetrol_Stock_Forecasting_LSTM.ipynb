{
  "nbformat": 4,
  "nbformat_minor": 0,
  "metadata": {
    "colab": {
      "name": "Ecopetrol_Stock_Forecasting_LSTM.ipynb",
      "provenance": [],
      "collapsed_sections": [],
      "authorship_tag": "ABX9TyPgT8s6whfN3+dyn+yzBHfp"
    },
    "kernelspec": {
      "name": "python3",
      "display_name": "Python 3"
    }
  },
  "cells": [
    {
      "cell_type": "markdown",
      "metadata": {
        "id": "bDo2Gj7PoF--",
        "colab_type": "text"
      },
      "source": [
        "## Install Package"
      ]
    },
    {
      "cell_type": "code",
      "metadata": {
        "id": "47C90sg8m_0m",
        "colab_type": "code",
        "colab": {}
      },
      "source": [
        "pip install investpy"
      ],
      "execution_count": 0,
      "outputs": []
    },
    {
      "cell_type": "markdown",
      "metadata": {
        "id": "XtH_dICjm79m",
        "colab_type": "text"
      },
      "source": [
        "## Import Packages"
      ]
    },
    {
      "cell_type": "code",
      "metadata": {
        "id": "3fWBNIRim-bM",
        "colab_type": "code",
        "colab": {}
      },
      "source": [
        "from pandas_datareader import data\n",
        "from datetime import datetime\n",
        "import matplotlib.pyplot as plt\n",
        "%matplotlib inline\n",
        "import pandas as pd\n",
        "import datetime as dt\n",
        "import math\n",
        "import numpy as np\n",
        "from sklearn.preprocessing import MinMaxScaler\n",
        "from keras.models import Sequential\n",
        "from keras.layers import Dense, LSTM\n",
        "import warnings\n",
        "\n",
        "warnings.filterwarnings('ignore')\n",
        "\n",
        "plt.style.use('fivethirtyeight')\n",
        "fig = (12,6)"
      ],
      "execution_count": 0,
      "outputs": []
    },
    {
      "cell_type": "markdown",
      "metadata": {
        "id": "0KkwXhK7oQ2X",
        "colab_type": "text"
      },
      "source": [
        "## Load Data"
      ]
    },
    {
      "cell_type": "code",
      "metadata": {
        "id": "PWFBZ5BBnnJp",
        "colab_type": "code",
        "colab": {}
      },
      "source": [
        "import investpy\n",
        "df = investpy.get_stock_historical_data('ECO',country='colombia',\n",
        "                                   from_date='01/01/2014', \n",
        "                                  #  to_date = datetime.today().strftime('%d/%m/%Y'),\n",
        "                                   to_date = '01/02/2020',\n",
        "                                   interval='Daily')\n",
        "df.tail()"
      ],
      "execution_count": 0,
      "outputs": []
    },
    {
      "cell_type": "code",
      "metadata": {
        "id": "-MtUPT34n-Bu",
        "colab_type": "code",
        "colab": {}
      },
      "source": [
        "# Historical Price\n",
        "df['Close'].plot(figsize=fig);"
      ],
      "execution_count": 0,
      "outputs": []
    },
    {
      "cell_type": "markdown",
      "metadata": {
        "id": "iEl2GqRW9AE1",
        "colab_type": "text"
      },
      "source": [
        "## Log Return, Cumulative Return and Drawdown"
      ]
    },
    {
      "cell_type": "code",
      "metadata": {
        "id": "he7JEZw5ogfq",
        "colab_type": "code",
        "colab": {}
      },
      "source": [
        "# Log Return\n",
        "np.log(df.Close/df.Close.shift(1)).plot(figsize=fig);"
      ],
      "execution_count": 0,
      "outputs": []
    },
    {
      "cell_type": "code",
      "metadata": {
        "id": "hMETwLKRsL9u",
        "colab_type": "code",
        "colab": {}
      },
      "source": [
        "# Max Peaks\n",
        "rets = df.Close.pct_change()\n",
        "cum_ret =  100*(1 + rets).cumprod()\n",
        "cum_ret.plot(label='Cumulative Return',figsize=fig,legend=True)\n",
        "previous_peaks = cum_ret.cummax()\n",
        "previous_peaks.plot(label='Max Peaks', lw=2,legend=True);"
      ],
      "execution_count": 0,
      "outputs": []
    },
    {
      "cell_type": "code",
      "metadata": {
        "id": "QZ50tHVqyt6e",
        "colab_type": "code",
        "colab": {}
      },
      "source": [
        "# Drawdown\n",
        "f, ax = plt.subplots(3,figsize=(10,12))\n",
        "cum_ret.plot(ax=ax[0],title='Cumulative Return')\n",
        "(cum_ret-previous_peaks).plot(ax=ax[1], c='r',title='Max Peaks')\n",
        "drawdown = (cum_ret - previous_peaks) / previous_peaks\n",
        "(drawdown*100).plot(ax=ax[2],c='r',title='Drawdown')\n",
        "ax[2].set_ylabel(\"%\")\n",
        "f.tight_layout();"
      ],
      "execution_count": 0,
      "outputs": []
    },
    {
      "cell_type": "code",
      "metadata": {
        "id": "StS9S09q2FhU",
        "colab_type": "code",
        "colab": {}
      },
      "source": [
        "# Max Drawdown\n",
        "print('Max drawdown: {}%' .format(round(drawdown.min(),2)*100))\n",
        "print('Date max drawdown: {}'.format(drawdown.idxmin()))"
      ],
      "execution_count": 0,
      "outputs": []
    },
    {
      "cell_type": "code",
      "metadata": {
        "id": "XjbL1Lh16zkh",
        "colab_type": "code",
        "colab": {}
      },
      "source": [
        "# Max Drawdown by Date\n",
        "print('Max drawdown: {}%' .format(round(drawdown['2018':'2019'].min(),2)*100))\n",
        "print('Date max drawdown: {}'.format(drawdown['2018':'2019'].idxmin()))"
      ],
      "execution_count": 0,
      "outputs": []
    },
    {
      "cell_type": "markdown",
      "metadata": {
        "id": "xVpcc8q59Qhu",
        "colab_type": "text"
      },
      "source": [
        "## Long Short Term Memory (LSTM)"
      ]
    },
    {
      "cell_type": "code",
      "metadata": {
        "id": "vAnhKlxDPTvT",
        "colab_type": "code",
        "colab": {}
      },
      "source": [
        "# Close Price\n",
        "data = df.filter(['Close'])\n",
        "# Convert the dataframe to a numpy array\n",
        "close_price = data.values\n",
        "# Split Data\n",
        "split_data = math.ceil(len(mid_prices)*0.8)"
      ],
      "execution_count": 0,
      "outputs": []
    },
    {
      "cell_type": "code",
      "metadata": {
        "id": "oLy6X3JdPTXC",
        "colab_type": "code",
        "colab": {}
      },
      "source": [
        "# Normalize Data\n",
        "scaler = MinMaxScaler(feature_range=(0,1))\n",
        "scaled_price = scaler.fit_transform(close_price)"
      ],
      "execution_count": 0,
      "outputs": []
    },
    {
      "cell_type": "code",
      "metadata": {
        "id": "cWlQjGghPTJ2",
        "colab_type": "code",
        "colab": {}
      },
      "source": [
        "# Split Data to Train and Test\n",
        "train_data = scaled_price[:split_data]\n",
        "test_data = scaled_price[split_data:]"
      ],
      "execution_count": 0,
      "outputs": []
    },
    {
      "cell_type": "code",
      "metadata": {
        "id": "qa84M6V3-MDp",
        "colab_type": "code",
        "colab": {}
      },
      "source": [
        "# Split the data into x_train and y_train\n",
        "x_train = []\n",
        "y_train = []\n",
        "\n",
        "for i in range(60, len(train_data)):\n",
        "    x_train.append(train_data[i-60:i, 0])\n",
        "    y_train.append(train_data[i, 0])\n",
        "\n",
        "x_train, y_train = np.array(x_train), np.array(y_train)"
      ],
      "execution_count": 0,
      "outputs": []
    },
    {
      "cell_type": "code",
      "metadata": {
        "id": "0qe4btX3E_7k",
        "colab_type": "code",
        "colab": {}
      },
      "source": [
        "# Reshape the data\n",
        "x_train = np.reshape(x_train, (x_train.shape[0], x_train.shape[1], 1))\n",
        "x_train.shape"
      ],
      "execution_count": 0,
      "outputs": []
    },
    {
      "cell_type": "code",
      "metadata": {
        "id": "FO5PcU28Gjgp",
        "colab_type": "code",
        "colab": {}
      },
      "source": [
        "# LSTM model\n",
        "model = Sequential()\n",
        "model.add(LSTM(50, return_sequences=True, input_shape= (x_train.shape[1], 1)))\n",
        "model.add(LSTM(50, return_sequences= False))\n",
        "model.add(Dense(25))\n",
        "model.add(Dense(1))"
      ],
      "execution_count": 0,
      "outputs": []
    },
    {
      "cell_type": "code",
      "metadata": {
        "id": "YrXDmkbRHB-P",
        "colab_type": "code",
        "colab": {}
      },
      "source": [
        "# Compile the model\n",
        "model.compile(optimizer='adam', loss='mean_squared_error')"
      ],
      "execution_count": 0,
      "outputs": []
    },
    {
      "cell_type": "code",
      "metadata": {
        "id": "kRqUPP7MHuAB",
        "colab_type": "code",
        "colab": {}
      },
      "source": [
        "# Train the model\n",
        "model.fit(x_train, y_train, batch_size=1, epochs=30)"
      ],
      "execution_count": 0,
      "outputs": []
    },
    {
      "cell_type": "code",
      "metadata": {
        "id": "SnvRdOYbTwZO",
        "colab_type": "code",
        "colab": {}
      },
      "source": [
        "#Create the testing data set \n",
        "test_data = scaled_price[split_data-60:]\n",
        "#Create the data sets x_test and y_test\n",
        "x_test = []\n",
        "y_test = close_price[split_data:, :]\n",
        "for i in range(60, len(test_data)):\n",
        "    x_test.append(test_data[i-60:i, 0])\n",
        "\n",
        "x_test = np.array(x_test)"
      ],
      "execution_count": 0,
      "outputs": []
    },
    {
      "cell_type": "code",
      "metadata": {
        "id": "LR3aXRH8XQGG",
        "colab_type": "code",
        "colab": {}
      },
      "source": [
        "# Reshape the data\n",
        "x_test = np.reshape(x_test, (x_test.shape[0], x_test.shape[1], 1 ))"
      ],
      "execution_count": 0,
      "outputs": []
    },
    {
      "cell_type": "code",
      "metadata": {
        "id": "PBtg5JYyXeVV",
        "colab_type": "code",
        "colab": {}
      },
      "source": [
        "# Get predicted price values \n",
        "predictions = model.predict(x_test)\n",
        "predictions = scaler.inverse_transform(predictions)"
      ],
      "execution_count": 0,
      "outputs": []
    },
    {
      "cell_type": "code",
      "metadata": {
        "id": "YhSoGkW5XrTX",
        "colab_type": "code",
        "colab": {}
      },
      "source": [
        "# Get the root mean squared error (RMSE)\n",
        "rmse = np.sqrt(np.mean(((predictions - y_test) ** 2)))\n",
        "rmse"
      ],
      "execution_count": 0,
      "outputs": []
    },
    {
      "cell_type": "code",
      "metadata": {
        "id": "HqibIvHHXu0g",
        "colab_type": "code",
        "colab": {}
      },
      "source": [
        "# Plot the data\n",
        "true = data[:split_data]\n",
        "valid['Predictions'] = predictions\n",
        "# Visualize the data\n",
        "plt.figure(figsize=fig)\n",
        "plt.title('LSTM Model - Ecopetrol (ECO)')\n",
        "plt.xlabel('Date', fontsize=18)\n",
        "plt.ylabel('Close Price', fontsize=18)\n",
        "plt.plot(train['Close'])\n",
        "# plt.plot(valid[['Close', 'Predictions']])\n",
        "plt.plot(valid['Close'],lw=4, c='gold')\n",
        "plt.plot(valid['Predictions'],lw=0.8, c='black')\n",
        "plt.legend(['True', 'Test', 'Predictions'], loc='lower right',fontsize=12);"
      ],
      "execution_count": 0,
      "outputs": []
    },
    {
      "cell_type": "markdown",
      "metadata": {
        "id": "1_v3eJ1Lw8H7",
        "colab_type": "text"
      },
      "source": [
        "## Next day Prediction"
      ]
    },
    {
      "cell_type": "code",
      "metadata": {
        "id": "SUK4It8rxZV4",
        "colab_type": "code",
        "colab": {}
      },
      "source": [
        "# \"data\" -> Historical Stock Price \n",
        "last_60_days = data[-60:].values"
      ],
      "execution_count": 0,
      "outputs": []
    },
    {
      "cell_type": "code",
      "metadata": {
        "id": "bRB1kEV_zwu7",
        "colab_type": "code",
        "colab": {}
      },
      "source": [
        "# Normalize\n",
        "scaled_60_days = scaler.transform(last_60_days)\n",
        "x_test1 = []\n",
        "x_test1.append(scaled_60_days)\n",
        "# Convert to array\n",
        "x_test1 = np.array(x_test1)\n",
        "# Reshape\n",
        "x_test1 = np.reshape(x_test1, (x_test1.shape[0], x_test1.shape[1], 1))\n",
        "# Predict\n",
        "predict_price = model.predict(x_test1)\n",
        "predict_price = scaler.inverse_transform(predict_price)"
      ],
      "execution_count": 0,
      "outputs": []
    },
    {
      "cell_type": "markdown",
      "metadata": {
        "id": "UGNEa1RJ4jTW",
        "colab_type": "text"
      },
      "source": [
        "## Check Next day Prediction"
      ]
    },
    {
      "cell_type": "code",
      "metadata": {
        "id": "Er2Sp0pl2tEa",
        "colab_type": "code",
        "colab": {
          "base_uri": "https://localhost:8080/",
          "height": 142
        },
        "outputId": "b92af6ec-c40f-4c2f-968f-89c2775663d6"
      },
      "source": [
        "\n",
        "ecopetrol = investpy.get_stock_historical_data('ECO',country='colombia',\n",
        "                                   from_date='31/01/2020',                          \n",
        "                                   to_date = '03/02/2020',\n",
        "                                   interval='Daily')\n",
        "ecopetrol"
      ],
      "execution_count": 319,
      "outputs": [
        {
          "output_type": "execute_result",
          "data": {
            "text/html": [
              "<div>\n",
              "<style scoped>\n",
              "    .dataframe tbody tr th:only-of-type {\n",
              "        vertical-align: middle;\n",
              "    }\n",
              "\n",
              "    .dataframe tbody tr th {\n",
              "        vertical-align: top;\n",
              "    }\n",
              "\n",
              "    .dataframe thead th {\n",
              "        text-align: right;\n",
              "    }\n",
              "</style>\n",
              "<table border=\"1\" class=\"dataframe\">\n",
              "  <thead>\n",
              "    <tr style=\"text-align: right;\">\n",
              "      <th></th>\n",
              "      <th>Open</th>\n",
              "      <th>High</th>\n",
              "      <th>Low</th>\n",
              "      <th>Close</th>\n",
              "      <th>Volume</th>\n",
              "      <th>Currency</th>\n",
              "    </tr>\n",
              "    <tr>\n",
              "      <th>Date</th>\n",
              "      <th></th>\n",
              "      <th></th>\n",
              "      <th></th>\n",
              "      <th></th>\n",
              "      <th></th>\n",
              "      <th></th>\n",
              "    </tr>\n",
              "  </thead>\n",
              "  <tbody>\n",
              "    <tr>\n",
              "      <th>2020-01-31</th>\n",
              "      <td>3210.0</td>\n",
              "      <td>3210.0</td>\n",
              "      <td>3140.0</td>\n",
              "      <td>3180.0</td>\n",
              "      <td>19502920</td>\n",
              "      <td>COP</td>\n",
              "    </tr>\n",
              "    <tr>\n",
              "      <th>2020-02-03</th>\n",
              "      <td>3160.0</td>\n",
              "      <td>3160.0</td>\n",
              "      <td>3120.0</td>\n",
              "      <td>3140.0</td>\n",
              "      <td>7113412</td>\n",
              "      <td>COP</td>\n",
              "    </tr>\n",
              "  </tbody>\n",
              "</table>\n",
              "</div>"
            ],
            "text/plain": [
              "              Open    High     Low   Close    Volume Currency\n",
              "Date                                                         \n",
              "2020-01-31  3210.0  3210.0  3140.0  3180.0  19502920      COP\n",
              "2020-02-03  3160.0  3160.0  3120.0  3140.0   7113412      COP"
            ]
          },
          "metadata": {
            "tags": []
          },
          "execution_count": 319
        }
      ]
    },
    {
      "cell_type": "code",
      "metadata": {
        "id": "IMq0UqZA5Hok",
        "colab_type": "code",
        "colab": {
          "base_uri": "https://localhost:8080/",
          "height": 102
        },
        "outputId": "975024fc-53d8-4265-c81f-40531d9ac830"
      },
      "source": [
        "print('Real Close Price vs. Prediction:','\\n')\n",
        "print('Real: ', ecopetrol.Close.iloc[-1])\n",
        "print('Prediction: {:.2f}'.format(float(predict_price)))\n",
        "print('Difference: {}%'.format(round(float(predict_price)/ecopetrol.Close.iloc[-1] - 1,3)*100))"
      ],
      "execution_count": 323,
      "outputs": [
        {
          "output_type": "stream",
          "text": [
            "Real Close Price vs. Prediction: \n",
            "\n",
            "Real:  3140.0\n",
            "Prediction: 3217.58\n",
            "Difference: 2.5%\n"
          ],
          "name": "stdout"
        }
      ]
    }
  ]
}